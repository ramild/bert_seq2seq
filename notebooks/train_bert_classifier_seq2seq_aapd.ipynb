{
 "cells": [
  {
   "cell_type": "code",
   "execution_count": 1,
   "metadata": {},
   "outputs": [
    {
     "name": "stdout",
     "output_type": "stream",
     "text": [
      "Better speed can be achieved with apex installed from https://www.github.com/nvidia/apex.\n"
     ]
    }
   ],
   "source": [
    "import sys\n",
    "%load_ext autoreload\n",
    "%autoreload 2\n",
    "sys.path.append('..')\n",
    "sys.path.append('../libseq2seq/')\n",
    "\n",
    "import os\n",
    "import numpy as np\n",
    "import pandas as pd\n",
    "from tqdm import tqdm\n",
    "from sklearn.model_selection import train_test_split\n",
    "import torch\n",
    "from libseq2seq import bert_model"
   ]
  },
  {
   "cell_type": "code",
   "execution_count": 2,
   "metadata": {},
   "outputs": [
    {
     "name": "stdout",
     "output_type": "stream",
     "text": [
      "env: CUDA_VISIBLE_DEVICES=1\n"
     ]
    }
   ],
   "source": [
    "%env CUDA_VISIBLE_DEVICES=1\n",
    "\n",
    "NUM_LABELS = 54 \n",
    "\n",
    "# terminal labels\n",
    "NUM_LABELS += 4\n",
    "\n",
    "params = {\n",
    "    'num_labels': NUM_LABELS,\n",
    "    'label_list': [str(label) for label in range(NUM_LABELS)],\n",
    "    'output_dir': '../output',\n",
    "    'cache_dir': '../model_cache',\n",
    "    'bert_model': 'bert-base-uncased',\n",
    "    'max_seq_length': 256,\n",
    "    'train_batch_size': 16,\n",
    "    'eval_batch_size': 1,\n",
    "    'learning_rate': 2e-5,\n",
    "    'warmup_proportion': 0.1,\n",
    "    'num_train_epochs': 2,\n",
    "    'seed': 1331,\n",
    "    'device': torch.device(\n",
    "        'cuda:0' if torch.cuda.is_available()\n",
    "        else 'cpu')\n",
    "}\n",
    "\n",
    "params['lower_case'] = (params['bert_model'][-7:] == 'uncased')"
   ]
  },
  {
   "cell_type": "markdown",
   "metadata": {},
   "source": [
    "## Preparing data"
   ]
  },
  {
   "cell_type": "code",
   "execution_count": 3,
   "metadata": {},
   "outputs": [
    {
     "name": "stderr",
     "output_type": "stream",
     "text": [
      "100%|██████████| 53840/53840 [00:07<00:00, 6989.69it/s]\n",
      "100%|██████████| 1000/1000 [00:00<00:00, 6257.01it/s]\n",
      "100%|██████████| 1000/1000 [00:00<00:00, 6366.35it/s]"
     ]
    },
    {
     "name": "stdout",
     "output_type": "stream",
     "text": [
      "Train size: 53840\n",
      "Valid size: 1000\n",
      "Test size:  1000\n"
     ]
    },
    {
     "name": "stderr",
     "output_type": "stream",
     "text": [
      "\n"
     ]
    },
    {
     "data": {
      "text/html": [
       "<div>\n",
       "<style scoped>\n",
       "    .dataframe tbody tr th:only-of-type {\n",
       "        vertical-align: middle;\n",
       "    }\n",
       "\n",
       "    .dataframe tbody tr th {\n",
       "        vertical-align: top;\n",
       "    }\n",
       "\n",
       "    .dataframe thead th {\n",
       "        text-align: right;\n",
       "    }\n",
       "</style>\n",
       "<table border=\"1\" class=\"dataframe\">\n",
       "  <thead>\n",
       "    <tr style=\"text-align: right;\">\n",
       "      <th></th>\n",
       "      <th>text</th>\n",
       "      <th>labels</th>\n",
       "    </tr>\n",
       "  </thead>\n",
       "  <tbody>\n",
       "    <tr>\n",
       "      <th>0</th>\n",
       "      <td>the relation between pearson 's correlation co...</td>\n",
       "      <td>[20, 45]</td>\n",
       "    </tr>\n",
       "    <tr>\n",
       "      <th>1</th>\n",
       "      <td>the present work studies quantum and classical...</td>\n",
       "      <td>[0, 1, 22]</td>\n",
       "    </tr>\n",
       "    <tr>\n",
       "      <th>2</th>\n",
       "      <td>one of the most important tasks in image proce...</td>\n",
       "      <td>[15, 44]</td>\n",
       "    </tr>\n",
       "    <tr>\n",
       "      <th>3</th>\n",
       "      <td>frequency diverse \\( fd \\) radar waveforms are...</td>\n",
       "      <td>[0, 1, 44]</td>\n",
       "    </tr>\n",
       "    <tr>\n",
       "      <th>4</th>\n",
       "      <td>unsupervised word embeddings have been shown t...</td>\n",
       "      <td>[3, 14]</td>\n",
       "    </tr>\n",
       "    <tr>\n",
       "      <th>5</th>\n",
       "      <td>a discrete time wiener phase noise channel wit...</td>\n",
       "      <td>[0, 1]</td>\n",
       "    </tr>\n",
       "    <tr>\n",
       "      <th>6</th>\n",
       "      <td>in this paper , we consider a particular class...</td>\n",
       "      <td>[0, 1]</td>\n",
       "    </tr>\n",
       "    <tr>\n",
       "      <th>7</th>\n",
       "      <td>the gallager bound is well known in the area o...</td>\n",
       "      <td>[0, 1]</td>\n",
       "    </tr>\n",
       "    <tr>\n",
       "      <th>8</th>\n",
       "      <td>symmetric tensor operations arise in a wide va...</td>\n",
       "      <td>[32, 46]</td>\n",
       "    </tr>\n",
       "    <tr>\n",
       "      <th>9</th>\n",
       "      <td>in a basic related key attack against a block ...</td>\n",
       "      <td>[0, 1, 16, 22]</td>\n",
       "    </tr>\n",
       "  </tbody>\n",
       "</table>\n",
       "</div>"
      ],
      "text/plain": [
       "                                                text          labels\n",
       "0  the relation between pearson 's correlation co...        [20, 45]\n",
       "1  the present work studies quantum and classical...      [0, 1, 22]\n",
       "2  one of the most important tasks in image proce...        [15, 44]\n",
       "3  frequency diverse \\( fd \\) radar waveforms are...      [0, 1, 44]\n",
       "4  unsupervised word embeddings have been shown t...         [3, 14]\n",
       "5  a discrete time wiener phase noise channel wit...          [0, 1]\n",
       "6  in this paper , we consider a particular class...          [0, 1]\n",
       "7  the gallager bound is well known in the area o...          [0, 1]\n",
       "8  symmetric tensor operations arise in a wide va...        [32, 46]\n",
       "9  in a basic related key attack against a block ...  [0, 1, 16, 22]"
      ]
     },
     "execution_count": 3,
     "metadata": {},
     "output_type": "execute_result"
    }
   ],
   "source": [
    "DATA_DIR = '../datasets'\n",
    "\n",
    "def create_label_sets(df):\n",
    "    labels = []\n",
    "    for i, row in tqdm(df.iterrows(), total=len(df)):\n",
    "        label_set = np.array(row['labels'].strip('[]').split(', '))\n",
    "        labels.append(list(np.array(label_set[label_set != ''], dtype=int)))\n",
    "    return labels\n",
    "\n",
    "df_train = pd.read_csv(\n",
    "    os.path.join(DATA_DIR, 'AAPD/train.csv'),\n",
    "    encoding='utf-8')\n",
    "df_valid = pd.read_csv(\n",
    "    os.path.join(DATA_DIR, 'AAPD/valid.csv'),\n",
    "    encoding='utf-8')\n",
    "df_test = pd.read_csv(\n",
    "    os.path.join(DATA_DIR, 'AAPD/test.csv'),\n",
    "    encoding='utf-8')\n",
    "\n",
    "X_train, y_train = (df_train['text'].values,\n",
    "                    create_label_sets(df_train))\n",
    "X_valid, y_valid = (df_valid['text'].values,\n",
    "                    create_label_sets(df_valid))\n",
    "X_test, y_test = (df_test['text'].values,\n",
    "                  create_label_sets(df_test))\n",
    "\n",
    "print('Train size:', len(df_train))\n",
    "print('Valid size:', len(df_valid))\n",
    "print('Test size: ', len(df_test))\n",
    "\n",
    "df_train.head(n=10)"
   ]
  },
  {
   "cell_type": "code",
   "execution_count": 4,
   "metadata": {},
   "outputs": [],
   "source": [
    "import json\n",
    "\n",
    "with open(os.path.join(DATA_DIR, 'AAPD/index_to_label.json')) as f:\n",
    "    index_to_label = json.load(f)\n",
    "index_to_label = {int(index): label for index, label in index_to_label.items()}"
   ]
  },
  {
   "cell_type": "code",
   "execution_count": 5,
   "metadata": {},
   "outputs": [],
   "source": [
    "def convert_labels(label_indexes):\n",
    "    return [index_to_label[index] for index in label_indexes]"
   ]
  },
  {
   "cell_type": "code",
   "execution_count": 6,
   "metadata": {},
   "outputs": [
    {
     "name": "stderr",
     "output_type": "stream",
     "text": [
      "100%|██████████| 1000/1000 [00:00<00:00, 4544.42it/s]\n",
      "100%|██████████| 1000/1000 [00:00<00:00, 4585.90it/s]\n"
     ]
    }
   ],
   "source": [
    "import re\n",
    "def create_ohe_labels(labels_column):\n",
    "    labels_str = re.sub('\\s+', ' ', labels_column.strip('[] ')).split(', ')\n",
    "    text_labels = np.array(labels_str, dtype=int)\n",
    "    text_labels\n",
    "    codes = np.zeros(params['num_labels'] - 4, dtype=int)\n",
    "    codes[text_labels] = 1\n",
    "    return codes.tolist()\n",
    "\n",
    "def get_data_ohe_labels(df):\n",
    "    targets = []\n",
    "    for i, row in tqdm(df.iterrows(), total=len(df)):\n",
    "        try:\n",
    "            targets.append(create_ohe_labels(row['labels']))\n",
    "        except:\n",
    "            print(i)\n",
    "            break\n",
    "    return targets\n",
    "\n",
    "y_test_ohe = get_data_ohe_labels(df_test)\n",
    "y_val_ohe = get_data_ohe_labels(df_valid)"
   ]
  },
  {
   "cell_type": "markdown",
   "metadata": {},
   "source": [
    "## Training BERT model"
   ]
  },
  {
   "cell_type": "code",
   "execution_count": 7,
   "metadata": {},
   "outputs": [
    {
     "name": "stdout",
     "output_type": "stream",
     "text": [
      "Downloading BERT...\n"
     ]
    },
    {
     "name": "stderr",
     "output_type": "stream",
     "text": [
      "/home/ramild/miniconda2/envs/py361/lib/python3.6/site-packages/torch/nn/_reduction.py:49: UserWarning: size_average and reduce args will be deprecated, please use reduction='sum' instead.\n",
      "  warnings.warn(warning.format(ret))\n"
     ]
    },
    {
     "name": "stdout",
     "output_type": "stream",
     "text": [
      "Completed!\n"
     ]
    }
   ],
   "source": [
    "model = bert_model.BertSeq2seqModel(params)"
   ]
  },
  {
   "cell_type": "code",
   "execution_count": 8,
   "metadata": {},
   "outputs": [],
   "source": [
    "model.model.load_state_dict(torch.load('../output/model_aapd_seq2seq_v1.pth'))"
   ]
  },
  {
   "cell_type": "code",
   "execution_count": null,
   "metadata": {},
   "outputs": [],
   "source": [
    "result = model.fit(X_train, y_train, batch_size=16, n_epochs=15,\n",
    "                   validation_data=(X_valid, y_valid),\n",
    "                   best_model_output='model_aapd_seq2seq_v1.pth')\n",
    "result"
   ]
  },
  {
   "cell_type": "code",
   "execution_count": 12,
   "metadata": {},
   "outputs": [],
   "source": [
    "from sklearn import metrics\n",
    "def print_metrics(y_true, preds, threshold=0.5):\n",
    "    y_true = np.array(y_true)\n",
    "    y_pred = np.array(preds >= threshold, dtype=int)\n",
    "    return {\n",
    "        'micro_f1': metrics.f1_score(y_true, y_pred, average='micro'),\n",
    "        'macro_f1': metrics.f1_score(y_true, y_pred, average='macro'),\n",
    "        'accuracy': metrics.accuracy_score(y_true, y_pred),\n",
    "        'hamming_accuracy': 1 - metrics.hamming_loss(y_true, y_pred)\n",
    "    }"
   ]
  },
  {
   "cell_type": "code",
   "execution_count": 107,
   "metadata": {},
   "outputs": [
    {
     "data": {
      "application/vnd.jupyter.widget-view+json": {
       "model_id": "2996a7ac3de44be49da13142f5417b93",
       "version_major": 2,
       "version_minor": 0
      },
      "text/plain": [
       "HBox(children=(IntProgress(value=0, description='Iteration', max=500, style=ProgressStyle(description_width='i…"
      ]
     },
     "metadata": {},
     "output_type": "display_data"
    },
    {
     "name": "stdout",
     "output_type": "stream",
     "text": [
      "{'val_log_loss': 7.157905424833298, 'val_log_loss_cmp': 1.045712991210124}\n",
      "{'val_log_loss': 7.026240200400353, 'val_log_loss_cmp': 1.0355549300516362}\n",
      "{'val_log_loss': 7.0662332224845885, 'val_log_loss_cmp': 1.0391519444830277}\n",
      "1000 1000 1000\n",
      "[[20, 38], [0, 1], [0, 1], [2, 14, 20], [0, 1, 6], [0, 1, 47], [0, 1], [8, 12], [0, 1], [12, 35]]\n",
      "[[20, 38], [8, 26], [0, 1], [2, 14], [0, 1], [0, 1], [2, 45], [8, 24], [0, 1], [12, 35]]\n",
      "[tensor([46, 98, 74], device='cuda:0'), tensor([ 8, 29, 35], device='cuda:0'), tensor([  4,  74, 109], device='cuda:0'), tensor([131, 174,   1], device='cuda:0'), tensor([23,  9, 73], device='cuda:0'), tensor([  2,   2, 143], device='cuda:0'), tensor([ 18,  22, 111], device='cuda:0'), tensor([14,  5, 95], device='cuda:0'), tensor([ 12, 150, 130], device='cuda:0'), tensor([52, 42, 49], device='cuda:0')]\n",
      "\n"
     ]
    }
   ],
   "source": [
    "result_valid, preds_valid, prob_preds_valid = bert_model.evaluate_seq2seq_model(\n",
    "    params, model.model, model.tokenizer, X_valid, y_valid)"
   ]
  },
  {
   "cell_type": "code",
   "execution_count": 13,
   "metadata": {},
   "outputs": [
    {
     "data": {
      "text/plain": [
       "{'val_log_loss': 3.533116694688797,\n",
       " 'val_log_loss_cmp': 1.0391519690261168,\n",
       " 'hamming_loss': 0.025166666666666667,\n",
       " 'macro_f1': 0.4704780301204323,\n",
       " 'macro_precision': 0.5658158792272774,\n",
       " 'macro_recall': 0.4317433142991923,\n",
       " 'micro_f1': 0.6946753538530668,\n",
       " 'micro_precision': 0.7537786445636275,\n",
       " 'micro_recall': 0.6441666666666667,\n",
       " 'accuracy_strict': 0.445,\n",
       " 'accuracy_soft': 0.455,\n",
       " 'accuracy_soft_1': 0.454}"
      ]
     },
     "execution_count": 13,
     "metadata": {},
     "output_type": "execute_result"
    }
   ],
   "source": [
    "result_valid"
   ]
  },
  {
   "cell_type": "code",
   "execution_count": 36,
   "metadata": {},
   "outputs": [],
   "source": [
    "new_preds = [np.where(np.array(prob_preds[i]) >= 0.5)[0].tolist() for i in range(1000)]"
   ]
  },
  {
   "cell_type": "code",
   "execution_count": 39,
   "metadata": {},
   "outputs": [
    {
     "data": {
      "text/plain": [
       "{'micro_f1': 0.7176573426573426,\n",
       " 'macro_f1': 0.5590319078662799,\n",
       " 'accuracy': 0.381,\n",
       " 'hamming_accuracy': 0.9760740740740741}"
      ]
     },
     "execution_count": 39,
     "metadata": {},
     "output_type": "execute_result"
    }
   ],
   "source": [
    "print_metrics(y_test_ohe, preds_test_bert)"
   ]
  },
  {
   "cell_type": "code",
   "execution_count": 77,
   "metadata": {},
   "outputs": [
    {
     "data": {
      "text/plain": [
       "{'val_log_loss': 7.542940304756165,\n",
       " 'val_log_loss_cmp': 1.102446697567402,\n",
       " 'hamming_loss': 0.026722222222222224,\n",
       " 'macro_f1': 0.4771427210385255,\n",
       " 'macro_precision': 0.5870118300132183,\n",
       " 'macro_recall': 0.4372658520133288,\n",
       " 'micro_f1': 0.6776859504132231,\n",
       " 'micro_precision': 0.7378404669260701,\n",
       " 'micro_recall': 0.6266005782734407,\n",
       " 'accuracy_strict': 0.407,\n",
       " 'accuracy_soft': 0.417,\n",
       " 'accuracy_soft_1': 0.417}"
      ]
     },
     "execution_count": 77,
     "metadata": {},
     "output_type": "execute_result"
    }
   ],
   "source": [
    "result"
   ]
  },
  {
   "cell_type": "code",
   "execution_count": 79,
   "metadata": {},
   "outputs": [
    {
     "data": {
      "text/plain": [
       "{'micro_f1': 0.6811329374143443,\n",
       " 'macro_f1': 0.4646321450022095,\n",
       " 'accuracy': 0.391,\n",
       " 'hamming_accuracy': 0.9741481481481481}"
      ]
     },
     "execution_count": 79,
     "metadata": {},
     "output_type": "execute_result"
    }
   ],
   "source": [
    "print_metrics(y_test_ohe, np.array(prob_preds), 0.4)"
   ]
  },
  {
   "cell_type": "code",
   "execution_count": 103,
   "metadata": {},
   "outputs": [
    {
     "data": {
      "text/plain": [
       "{'micro_f1': 0.657999580624869,\n",
       " 'macro_f1': 0.48341728910782505,\n",
       " 'accuracy': 0.273,\n",
       " 'hamming_accuracy': 0.9697962962962963}"
      ]
     },
     "execution_count": 103,
     "metadata": {},
     "output_type": "execute_result"
    }
   ],
   "source": [
    "print_metrics(y_test_ohe, np.array(prob_preds_beam), 0.5)"
   ]
  },
  {
   "cell_type": "code",
   "execution_count": 37,
   "metadata": {},
   "outputs": [],
   "source": [
    "preds_test_bert = np.load('../output/temp_aapd256_bert_preds.npy')\n",
    "preds_val_bert = np.load('../output/temp_aapd256_bert_preds_val.npy')"
   ]
  },
  {
   "cell_type": "code",
   "execution_count": 35,
   "metadata": {},
   "outputs": [
    {
     "name": "stderr",
     "output_type": "stream",
     "text": [
      "/home/ramild/miniconda2/envs/py361/lib/python3.6/site-packages/sklearn/metrics/classification.py:1143: UndefinedMetricWarning: F-score is ill-defined and being set to 0.0 in labels with no predicted samples.\n",
      "  'precision', 'predicted', average, warn_for)\n"
     ]
    },
    {
     "data": {
      "text/plain": [
       "{'micro_f1': 0.7176573426573426,\n",
       " 'macro_f1': 0.5590319078662799,\n",
       " 'accuracy': 0.381,\n",
       " 'hamming_accuracy': 0.9760740740740741}"
      ]
     },
     "execution_count": 35,
     "metadata": {},
     "output_type": "execute_result"
    }
   ],
   "source": [
    "print_metrics(y_test_ohe, preds_test_bert)"
   ]
  },
  {
   "cell_type": "code",
   "execution_count": 40,
   "metadata": {},
   "outputs": [],
   "source": [
    "preds_bert = [list(np.where(pred >= 0.5)[0])\n",
    "              for i, pred in enumerate(preds_test_bert)]"
   ]
  },
  {
   "cell_type": "code",
   "execution_count": 41,
   "metadata": {},
   "outputs": [],
   "source": [
    "preds_bert = [list(np.where(pred >= 0.5)[0])\n",
    "              for i, pred in enumerate(preds_test_bert)]"
   ]
  },
  {
   "cell_type": "code",
   "execution_count": 40,
   "metadata": {},
   "outputs": [
    {
     "data": {
      "text/plain": [
       "[[15],\n",
       " [0, 1],\n",
       " [2, 23],\n",
       " [12, 43],\n",
       " [0, 1, 11],\n",
       " [0, 1],\n",
       " [0, 1],\n",
       " [],\n",
       " [3, 8, 23],\n",
       " [4, 7]]"
      ]
     },
     "execution_count": 40,
     "metadata": {},
     "output_type": "execute_result"
    }
   ],
   "source": [
    "preds_bert[:10]"
   ]
  },
  {
   "cell_type": "code",
   "execution_count": 41,
   "metadata": {},
   "outputs": [
    {
     "data": {
      "text/plain": [
       "[[2, 15],\n",
       " [0, 1],\n",
       " [2, 23],\n",
       " [12, 27],\n",
       " [0, 1],\n",
       " [0, 1],\n",
       " [0, 1],\n",
       " [0, 1],\n",
       " [8, 26],\n",
       " [2, 4]]"
      ]
     },
     "execution_count": 41,
     "metadata": {},
     "output_type": "execute_result"
    }
   ],
   "source": [
    "preds[:10]"
   ]
  },
  {
   "cell_type": "code",
   "execution_count": 42,
   "metadata": {},
   "outputs": [],
   "source": [
    "indexes_seq2seq_win = []\n",
    "indexes_bert_win = []"
   ]
  },
  {
   "cell_type": "code",
   "execution_count": 43,
   "metadata": {},
   "outputs": [],
   "source": [
    "for i, text in enumerate(X_test):\n",
    "    if preds[i] == y_test[i] and preds_bert[i] != y_test[i]:\n",
    "        indexes_seq2seq_win.append((i, len(set(preds[i]) ^ set(preds_bert[i]))))\n",
    "    if preds[i] != y_test[i] and preds_bert[i] == y_test[i]:\n",
    "        indexes_bert_win.append((i, len(set(preds[i]) ^ set(preds_bert[i]))))"
   ]
  },
  {
   "cell_type": "code",
   "execution_count": 122,
   "metadata": {},
   "outputs": [
    {
     "data": {
      "application/vnd.jupyter.widget-view+json": {
       "model_id": "00b29c0828c542669e3a92216fad2e39",
       "version_major": 2,
       "version_minor": 0
      },
      "text/plain": [
       "HBox(children=(IntProgress(value=0, max=1001), HTML(value='')))"
      ]
     },
     "metadata": {},
     "output_type": "display_data"
    },
    {
     "name": "stderr",
     "output_type": "stream",
     "text": [
      "/home/ramild/miniconda2/envs/py361/lib/python3.6/site-packages/sklearn/metrics/classification.py:1143: UndefinedMetricWarning: F-score is ill-defined and being set to 0.0 in labels with no predicted samples.\n",
      "  'precision', 'predicted', average, warn_for)\n"
     ]
    }
   ],
   "source": [
    "from tqdm import tqdm_notebook as tqdm\n",
    "alpha_list = np.linspace(0.0, 1.0, 1001)\n",
    "metrics_list = {\n",
    "    'micro_f1': [],\n",
    "    'macro_f1': [],\n",
    "    'accuracy': [],\n",
    "    'hamming_accuracy': []\n",
    "}\n",
    "\n",
    "for alpha in tqdm(alpha_list):\n",
    "    prediction_valid = prob_preds_valid * alpha + preds_val_bert * (1 - alpha)\n",
    "    val_metrics = print_metrics(y_val_ohe, prediction_valid)\n",
    "    for metrics_name in val_metrics:\n",
    "        metrics_list[metrics_name].append(val_metrics[metrics_name])"
   ]
  },
  {
   "cell_type": "code",
   "execution_count": 130,
   "metadata": {},
   "outputs": [
    {
     "name": "stdout",
     "output_type": "stream",
     "text": [
      "micro_f1 0.231 0.7489361702127659\n",
      "macro_f1 0.231 0.5696400211643575\n",
      "accuracy 0.23 0.451\n",
      "hamming_accuracy 0.424 0.9793148148148149\n"
     ]
    }
   ],
   "source": [
    "for metrics_name in metrics_list:\n",
    "    print(metrics_name, alpha_list[np.argmax(metrics_list[metrics_name])], max(metrics_list[metrics_name]))"
   ]
  },
  {
   "cell_type": "code",
   "execution_count": 158,
   "metadata": {},
   "outputs": [
    {
     "data": {
      "image/png": "[encoded data removed]",
      "text/plain": [
       "<Figure size 432x288 with 1 Axes>"
      ]
     },
     "metadata": {
      "image/png": {
       "height": 268,
       "width": 398
      },
      "needs_background": "light"
     },
     "output_type": "display_data"
    },
    {
     "data": {
      "image/png": "[encoded data removed]",
      "text/plain": [
       "<Figure size 432x288 with 1 Axes>"
      ]
     },
     "metadata": {
      "image/png": {
       "height": 268,
       "width": 398
      },
      "needs_background": "light"
     },
     "output_type": "display_data"
    },
    {
     "data": {
      "image/png": "[encoded data removed]",
      "text/plain": [
       "<Figure size 432x288 with 1 Axes>"
      ]
     },
     "metadata": {
      "image/png": {
       "height": 268,
       "width": 404
      },
      "needs_background": "light"
     },
     "output_type": "display_data"
    },
    {
     "data": {
      "image/png": "[encoded data removed]",
      "text/plain": [
       "<Figure size 432x288 with 1 Axes>"
      ]
     },
     "metadata": {
      "image/png": {
       "height": 269,
       "width": 411
      },
      "needs_background": "light"
     },
     "output_type": "display_data"
    }
   ],
   "source": [
    "%matplotlib inline\n",
    "%config InlineBackend.figure_format = 'retina'\n",
    "from matplotlib import pyplot as plt\n",
    "\n",
    "for metrics_name in metrics_list:\n",
    "    plt.plot(alpha_list, metrics_list[metrics_name])\n",
    "    plt.xlabel('alpha', fontsize=14)\n",
    "    plt.ylabel(metrics_name, fontsize=14)\n",
    "    plt.show()"
   ]
  },
  {
   "cell_type": "code",
   "execution_count": 138,
   "metadata": {},
   "outputs": [],
   "source": [
    "best_alpha = 0.231\n",
    "prob_preds_test = np.array(prob_preds)\n",
    "prediction_test = prob_preds_test * best_alpha + preds_test_bert * (1 - best_alpha)"
   ]
  },
  {
   "cell_type": "code",
   "execution_count": 143,
   "metadata": {},
   "outputs": [
    {
     "name": "stderr",
     "output_type": "stream",
     "text": [
      "/home/ramild/miniconda2/envs/py361/lib/python3.6/site-packages/sklearn/metrics/classification.py:1143: UndefinedMetricWarning: F-score is ill-defined and being set to 0.0 in labels with no predicted samples.\n",
      "  'precision', 'predicted', average, warn_for)\n"
     ]
    },
    {
     "data": {
      "text/plain": [
       "{'micro_f1': 0.719427677174156,\n",
       " 'macro_f1': 0.5524668122173447,\n",
       " 'accuracy': 0.397,\n",
       " 'hamming_accuracy': 0.9767592592592592}"
      ]
     },
     "execution_count": 143,
     "metadata": {},
     "output_type": "execute_result"
    }
   ],
   "source": [
    "print_metrics(y_test_ohe, prediction_test)"
   ]
  },
  {
   "cell_type": "code",
   "execution_count": 144,
   "metadata": {},
   "outputs": [
    {
     "data": {
      "text/plain": [
       "{'micro_f1': 0.665551839464883,\n",
       " 'macro_f1': 0.42403396577343205,\n",
       " 'accuracy': 0.377,\n",
       " 'hamming_accuracy': 0.9740740740740741}"
      ]
     },
     "execution_count": 144,
     "metadata": {},
     "output_type": "execute_result"
    }
   ],
   "source": [
    "print_metrics(y_test_ohe, prob_preds_test)"
   ]
  },
  {
   "cell_type": "code",
   "execution_count": 145,
   "metadata": {},
   "outputs": [
    {
     "data": {
      "text/plain": [
       "{'micro_f1': 0.7176573426573426,\n",
       " 'macro_f1': 0.5590319078662799,\n",
       " 'accuracy': 0.381,\n",
       " 'hamming_accuracy': 0.9760740740740741}"
      ]
     },
     "execution_count": 145,
     "metadata": {},
     "output_type": "execute_result"
    }
   ],
   "source": [
    "print_metrics(y_test_ohe, preds_test_bert)"
   ]
  },
  {
   "cell_type": "code",
   "execution_count": 16,
   "metadata": {},
   "outputs": [
    {
     "name": "stderr",
     "output_type": "stream",
     "text": [
      "/home/ramild/miniconda2/envs/py361/lib/python3.6/site-packages/sklearn/metrics/classification.py:1143: UndefinedMetricWarning: F-score is ill-defined and being set to 0.0 in labels with no predicted samples.\n",
      "  'precision', 'predicted', average, warn_for)\n"
     ]
    },
    {
     "data": {
      "text/plain": [
       "{'micro_f1': 0.6650729141764284,\n",
       " 'macro_f1': 0.4220101136489358,\n",
       " 'accuracy': 0.377,\n",
       " 'hamming_accuracy': 0.9740555555555556}"
      ]
     },
     "execution_count": 16,
     "metadata": {},
     "output_type": "execute_result"
    }
   ],
   "source": [
    "print_metrics(y_test_ohe, prob_preds)"
   ]
  },
  {
   "cell_type": "code",
   "execution_count": 122,
   "metadata": {},
   "outputs": [],
   "source": [
    "%matplotlib inline\n",
    "%config InlineBackend.figure_format = 'retina'\n",
    "from matplotlib import pyplot as plt\n",
    "\n",
    "def explain(model, tokenizer, sample):\n",
    "    \"\"\" Computes the effect each word had on model predictions \"\"\"\n",
    "    \n",
    "    # compute model prediction on sample (scalar float log-salary)\n",
    "    _, _, baseline_pred = bert_model.evaluate_seq2seq_model(\n",
    "        params, model, tokenizer, [sample], [[]], verbose=False)\n",
    "    \n",
    "    # for each i-th token in :col_name:, compute predictions on a copy of data\n",
    "    # where i-th token is dropped (UNK)\n",
    "    predictions_without_word = []\n",
    "    tokens = sample.split()\n",
    "    for i, token in enumerate(tokens):\n",
    "        new_tokens = tokens[:]\n",
    "        new_tokens[i] = ''\n",
    "        new_sample = ' '.join(tokens[:i] + tokens[i + 1:])\n",
    "        print(new_sample)\n",
    "        _, _, new_pred = bert_model.evaluate_seq2seq_model(\n",
    "            params, model, tokenizer, [new_sample], [[]], verbose=False)\n",
    "        predictions_without_word.append(new_pred[0])\n",
    "    \n",
    "    score_differences = [\n",
    "        sum(np.abs(prediction - baseline_pred[0])) for prediction in predictions_without_word\n",
    "    ]\n",
    "    return baseline_pred, [(token, score) for token, score in zip(tokens, score_differences)]\n",
    "\n",
    "\n",
    "\n",
    "from IPython.display import HTML, display_html\n",
    "\n",
    "def draw_html(tokens_and_weights, cmap=plt.get_cmap('bwr_r'), display=True,\n",
    "              token_template=\"\"\"<span style=\"background-color: {color_hex}\">{token}</span>\"\"\",\n",
    "              font_style=\"font-size:14px;\"\n",
    "             ):\n",
    "    \n",
    "    def get_color_hex(weight):\n",
    "        rgba = cmap(1. / (1 + np.exp(weight)), bytes=True)\n",
    "        #print(rgba)\n",
    "        return '#%02X%02X%02X' % rgba[:3]\n",
    "    \n",
    "    tokens_html = [\n",
    "        token_template.format(token=token, color_hex=get_color_hex(weight))\n",
    "        for token, weight in tokens_and_weights\n",
    "    ]\n",
    "    \n",
    "    \n",
    "    raw_html = \"\"\"<p style=\"{}\">{}</p>\"\"\".format(font_style, ' '.join(tokens_html))\n",
    "    if display:\n",
    "        display_html(HTML(raw_html))\n",
    "        \n",
    "    return raw_html\n",
    "\n",
    "class NoStdStreams(object):\n",
    "    def __init__(self,stdout = None, stderr = None):\n",
    "        self.devnull = open(os.devnull,'w')\n",
    "        self._stdout = stdout or self.devnull or sys.stdout\n",
    "        self._stderr = stderr or self.devnull or sys.stderr\n",
    "\n",
    "    def __enter__(self):\n",
    "        self.old_stdout, self.old_stderr = sys.stdout, sys.stderr\n",
    "        self.old_stdout.flush(); self.old_stderr.flush()\n",
    "        sys.stdout, sys.stderr = self._stdout, self._stderr\n",
    "\n",
    "    def __exit__(self, exc_type, exc_value, traceback):\n",
    "        self._stdout.flush(); self._stderr.flush()\n",
    "        sys.stdout = self.old_stdout\n",
    "        sys.stderr = self.old_stderr\n",
    "        self.devnull.close()\n",
    "\n",
    "def softmax(x):\n",
    "    \"\"\"Compute softmax values for each sets of scores in x.\"\"\"\n",
    "    return np.exp(x) / np.sum(np.exp(x), axis=0)\n",
    "        \n",
    "def draw_heatmap(model, tokenizer, sample):\n",
    "    with NoStdStreams():\n",
    "        pred, tokens_and_weights = explain(model, tokenizer, sample)\n",
    "        weights = [weight for word, weight in tokens_and_weights]\n",
    "        draw_html([(tok, weights[i] * weights[i])\n",
    "                   for i, (tok, weight) in enumerate(tokens_and_weights)], font_style='font-size:14px;');"
   ]
  },
  {
   "cell_type": "code",
   "execution_count": 58,
   "metadata": {},
   "outputs": [],
   "source": [
    "sample = 'Our research work is on object detection'\n",
    "sample_nlp = 'Our research work is on natural language processing for sequence to sequence modeling'"
   ]
  },
  {
   "cell_type": "code",
   "execution_count": 87,
   "metadata": {},
   "outputs": [],
   "source": [
    "import nltk\n",
    "tokenizer = nltk.tokenize.WordPunctTokenizer()"
   ]
  },
  {
   "cell_type": "code",
   "execution_count": 90,
   "metadata": {},
   "outputs": [
    {
     "data": {
      "text/plain": [
       "'we introduce a new language representation model called bert , which stands for bidirectional encoder representations from transformers . unlike recent language representation models , bert is designed to pre - train deep bidirectional representations by jointly conditioning on both left and right context in all layers .'"
      ]
     },
     "execution_count": 90,
     "metadata": {},
     "output_type": "execute_result"
    }
   ],
   "source": [
    "sample_bert = 'We introduce a new language representation model called BERT, which stands for Bidirectional Encoder Representations from Transformers. Unlike recent language representation models, BERT is designed to pre-train deep bidirectional representations by jointly conditioning on both left and right context in all layers.'\n",
    "sample_bert = ' '.join(tokenizer.tokenize(sample_bert))\n",
    "sample_bert"
   ]
  },
  {
   "cell_type": "code",
   "execution_count": 98,
   "metadata": {},
   "outputs": [
    {
     "data": {
      "text/html": [
       "<p style=\"font-size:14px;\"><span style=\"background-color: #FFC3C3\">we</span> <span style=\"background-color: #FFBABA\">introduce</span> <span style=\"background-color: #FFB6B6\">a</span> <span style=\"background-color: #FFCACA\">new</span> <span style=\"background-color: #FFE8E8\">language</span> <span style=\"background-color: #FFA3A3\">representation</span> <span style=\"background-color: #FFB8B8\">model</span> <span style=\"background-color: #FFBCBC\">called</span> <span style=\"background-color: #FFACAC\">bert</span> <span style=\"background-color: #FFBEBE\">,</span> <span style=\"background-color: #FFBEBE\">which</span> <span style=\"background-color: #FFB2B2\">stands</span> <span style=\"background-color: #FFB8B8\">for</span> <span style=\"background-color: #FFF3F3\">bidirectional</span> <span style=\"background-color: #FF7979\">encoder</span> <span style=\"background-color: #FFACAC\">representations</span> <span style=\"background-color: #FFB8B8\">from</span> <span style=\"background-color: #FFC3C3\">transformers</span> <span style=\"background-color: #FFBABA\">.</span> <span style=\"background-color: #FFB2B2\">unlike</span> <span style=\"background-color: #FFCCCC\">recent</span> <span style=\"background-color: #FFDCDC\">language</span> <span style=\"background-color: #FFD0D0\">representation</span> <span style=\"background-color: #FFE0E0\">models</span> <span style=\"background-color: #FFD6D6\">,</span> <span style=\"background-color: #FFDEDE\">bert</span> <span style=\"background-color: #FFDADA\">is</span> <span style=\"background-color: #FFD2D2\">designed</span> <span style=\"background-color: #FFCCCC\">to</span> <span style=\"background-color: #FFDADA\">pre</span> <span style=\"background-color: #FFD2D2\">-</span> <span style=\"background-color: #FFC8C8\">train</span> <span style=\"background-color: #FF5C5C\">deep</span> <span style=\"background-color: #FFE6E6\">bidirectional</span> <span style=\"background-color: #FFC0C0\">representations</span> <span style=\"background-color: #FFE3E3\">by</span> <span style=\"background-color: #FFE8E8\">jointly</span> <span style=\"background-color: #FFDADA\">conditioning</span> <span style=\"background-color: #FFF0F0\">on</span> <span style=\"background-color: #FFF6F6\">both</span> <span style=\"background-color: #FFFAFA\">left</span> <span style=\"background-color: #FFF8F8\">and</span> <span style=\"background-color: #FFF3F3\">right</span> <span style=\"background-color: #FFF8F8\">context</span> <span style=\"background-color: #FFF8F8\">in</span> <span style=\"background-color: #FFF6F6\">all</span> <span style=\"background-color: #FFE3E3\">layers</span> <span style=\"background-color: #FFC3C3\">.</span></p>"
      ]
     },
     "metadata": {},
     "output_type": "display_data"
    },
    {
     "data": {
      "text/plain": [
       "['cs.LG', 'cs.CL']"
      ]
     },
     "execution_count": 98,
     "metadata": {},
     "output_type": "execute_result"
    }
   ],
   "source": [
    "draw_heatmap(model.model, model.tokenizer, sample_bert)\n",
    "convert_labels(preds_sample[0])"
   ]
  },
  {
   "cell_type": "code",
   "execution_count": 123,
   "metadata": {},
   "outputs": [
    {
     "data": {
      "text/html": [
       "<p style=\"font-size:14px;\"><span style=\"background-color: #FFE3E3\">we</span> <span style=\"background-color: #FFDADA\">introduce</span> <span style=\"background-color: #FFD3D3\">a</span> <span style=\"background-color: #FFE8E8\">new</span> <span style=\"background-color: #FFFAFA\">language</span> <span style=\"background-color: #FFBABA\">representation</span> <span style=\"background-color: #FFD6D6\">model</span> <span style=\"background-color: #FFDADA\">called</span> <span style=\"background-color: #FFC6C6\">bert</span> <span style=\"background-color: #FFDCDC\">,</span> <span style=\"background-color: #FFDEDE\">which</span> <span style=\"background-color: #FFD0D0\">stands</span> <span style=\"background-color: #FFD3D3\">for</span> <span style=\"background-color: #FFFEFE\">bidirectional</span> <span style=\"background-color: #FF6C6C\">encoder</span> <span style=\"background-color: #FFC8C8\">representations</span> <span style=\"background-color: #FFD6D6\">from</span> <span style=\"background-color: #FFE2E2\">transformers</span> <span style=\"background-color: #FFDADA\">.</span> <span style=\"background-color: #FFCECE\">unlike</span> <span style=\"background-color: #FFEAEA\">recent</span> <span style=\"background-color: #FFF6F6\">language</span> <span style=\"background-color: #FFEEEE\">representation</span> <span style=\"background-color: #FFF8F8\">models</span> <span style=\"background-color: #FFF2F2\">,</span> <span style=\"background-color: #FFF6F6\">bert</span> <span style=\"background-color: #FFF3F3\">is</span> <span style=\"background-color: #FFF0F0\">designed</span> <span style=\"background-color: #FFEAEA\">to</span> <span style=\"background-color: #FFF3F3\">pre</span> <span style=\"background-color: #FFEEEE\">-</span> <span style=\"background-color: #FFE8E8\">train</span> <span style=\"background-color: #FF2E2E\">deep</span> <span style=\"background-color: #FFFAFA\">bidirectional</span> <span style=\"background-color: #FFDEDE\">representations</span> <span style=\"background-color: #FFFAFA\">by</span> <span style=\"background-color: #FFFAFA\">jointly</span> <span style=\"background-color: #FFF3F3\">conditioning</span> <span style=\"background-color: #FFFEFE\">on</span> <span style=\"background-color: #FFFEFE\">both</span> <span style=\"background-color: #FFFEFE\">left</span> <span style=\"background-color: #FFFEFE\">and</span> <span style=\"background-color: #FFFEFE\">right</span> <span style=\"background-color: #FFFEFE\">context</span> <span style=\"background-color: #FFFEFE\">in</span> <span style=\"background-color: #FFFEFE\">all</span> <span style=\"background-color: #FFFAFA\">layers</span> <span style=\"background-color: #FFE3E3\">.</span></p>"
      ]
     },
     "metadata": {},
     "output_type": "display_data"
    },
    {
     "data": {
      "text/plain": [
       "['cs.LG', 'cs.CL']"
      ]
     },
     "execution_count": 123,
     "metadata": {},
     "output_type": "execute_result"
    }
   ],
   "source": [
    "draw_heatmap(model.model, model.tokenizer, sample_bert)\n",
    "convert_labels(preds_sample[0])"
   ]
  },
  {
   "cell_type": "code",
   "execution_count": 79,
   "metadata": {},
   "outputs": [
    {
     "data": {
      "text/html": [
       "<p style=\"font-size:14px;\"><span style=\"background-color: #FFD8D8\">we</span> <span style=\"background-color: #FFE2E2\">discuss</span> <span style=\"background-color: #FFE6E6\">inequalities</span> <span style=\"background-color: #FF1818\">holding</span> <span style=\"background-color: #FFDADA\">between</span> <span style=\"background-color: #FFE3E3\">the</span> <span style=\"background-color: #FFCECE\">vocabulary</span> <span style=\"background-color: #FFE0E0\">size</span> <span style=\"background-color: #FFE2E2\">,</span> <span style=\"background-color: #FFE0E0\">i</span> <span style=\"background-color: #FFE6E6\">e</span> <span style=\"background-color: #FFE3E3\">,</span> <span style=\"background-color: #FFDEDE\">the</span> <span style=\"background-color: #FFDEDE\">number</span> <span style=\"background-color: #FFECEC\">of</span> <span style=\"background-color: #FFE2E2\">distinct</span> <span style=\"background-color: #FFF0F0\">nonterminal</span> <span style=\"background-color: #FFE2E2\">symbols</span> <span style=\"background-color: #FFF0F0\">in</span> <span style=\"background-color: #FFF3F3\">a</span> <span style=\"background-color: #FFE2E2\">grammar</span> <span style=\"background-color: #FFF6F6\">based</span> <span style=\"background-color: #FFE0E0\">compression</span> <span style=\"background-color: #FFECEC\">for</span> <span style=\"background-color: #FFFAFA\">a</span> <span style=\"background-color: #FFE8E8\">string</span> <span style=\"background-color: #FFF3F3\">,</span> <span style=\"background-color: #FFEEEE\">and</span> <span style=\"background-color: #FFEAEA\">the</span> <span style=\"background-color: #FFEAEA\">excess</span> <span style=\"background-color: #FFEEEE\">length</span> <span style=\"background-color: #FFE6E6\">of</span> <span style=\"background-color: #FFE8E8\">the</span> <span style=\"background-color: #FFF3F3\">respective</span> <span style=\"background-color: #FFDADA\">universal</span> <span style=\"background-color: #FFDCDC\">code</span> <span style=\"background-color: #FFDADA\">,</span> <span style=\"background-color: #FFE2E2\">i</span> <span style=\"background-color: #FFE2E2\">e</span> <span style=\"background-color: #FFDCDC\">,</span> <span style=\"background-color: #FFD8D8\">the</span> <span style=\"background-color: #FFE6E6\">code</span> <span style=\"background-color: #FFE3E3\">based</span> <span style=\"background-color: #FF1E1E\">analog</span> <span style=\"background-color: #FFD3D3\">of</span> <span style=\"background-color: #FF2020\">algorithmic</span> <span style=\"background-color: #FF2020\">mutual</span> <span style=\"background-color: #FF1E1E\">information</span> <span style=\"background-color: #FFF3F3\">the</span> <span style=\"background-color: #FFF2F2\">aim</span> <span style=\"background-color: #FFE6E6\">is</span> <span style=\"background-color: #FFECEC\">to</span> <span style=\"background-color: #FFF3F3\">strengthen</span> <span style=\"background-color: #FFDCDC\">inequalities</span> <span style=\"background-color: #FFEAEA\">which</span> <span style=\"background-color: #FFEAEA\">were</span> <span style=\"background-color: #FFDCDC\">discussed</span> <span style=\"background-color: #FFE0E0\">in</span> <span style=\"background-color: #FFE3E3\">a</span> <span style=\"background-color: #FFD8D8\">weaker</span> <span style=\"background-color: #FFF3F3\">form</span> <span style=\"background-color: #FFFAFA\">in</span> <span style=\"background-color: #FFB6B6\">linguistics</span> <span style=\"background-color: #FFDADA\">but</span> <span style=\"background-color: #FFF6F6\">shed</span> <span style=\"background-color: #FFEEEE\">some</span> <span style=\"background-color: #FFEEEE\">light</span> <span style=\"background-color: #FFE6E6\">on</span> <span style=\"background-color: #FFF8F8\">redundancy</span> <span style=\"background-color: #FFF6F6\">of</span> <span style=\"background-color: #FF1E1E\">efficiently</span> <span style=\"background-color: #FFF2F2\">computable</span> <span style=\"background-color: #FF1E1E\">codes</span> <span style=\"background-color: #FFF2F2\">the</span> <span style=\"background-color: #FFF8F8\">main</span> <span style=\"background-color: #FFFAFA\">contribution</span> <span style=\"background-color: #FFFCFC\">of</span> <span style=\"background-color: #FFFAFA\">the</span> <span style=\"background-color: #FFFCFC\">paper</span> <span style=\"background-color: #FFF6F6\">is</span> <span style=\"background-color: #FFF8F8\">a</span> <span style=\"background-color: #FFF6F6\">construction</span> <span style=\"background-color: #FFFAFA\">of</span> <span style=\"background-color: #FFF2F2\">universal</span> <span style=\"background-color: #FFE2E2\">grammar</span> <span style=\"background-color: #FFE0E0\">based</span> <span style=\"background-color: #FFEEEE\">codes</span> <span style=\"background-color: #FFF3F3\">for</span> <span style=\"background-color: #FFF6F6\">which</span> <span style=\"background-color: #FFFEFE\">the</span> <span style=\"background-color: #FFFEFE\">excess</span> <span style=\"background-color: #FFF0F0\">lengths</span> <span style=\"background-color: #FFF8F8\">can</span> <span style=\"background-color: #FFF8F8\">be</span> <span style=\"background-color: #FFFCFC\">bounded</span> <span style=\"background-color: #FFF3F3\">easily</span></p>"
      ]
     },
     "metadata": {},
     "output_type": "display_data"
    }
   ],
   "source": [
    "draw_heatmap(model.model, model.tokenizer, X_test[76])"
   ]
  },
  {
   "cell_type": "code",
   "execution_count": 36,
   "metadata": {},
   "outputs": [
    {
     "data": {
      "text/html": [
       "<p style=\"font-size:14px;\"><span style=\"background-color: #FFD8D8\">we</span> <span style=\"background-color: #FFE2E2\">discuss</span> <span style=\"background-color: #FFE6E6\">inequalities</span> <span style=\"background-color: #FF1818\">holding</span> <span style=\"background-color: #FFDADA\">between</span> <span style=\"background-color: #FFE3E3\">the</span> <span style=\"background-color: #FFCECE\">vocabulary</span> <span style=\"background-color: #FFE0E0\">size</span> <span style=\"background-color: #FFE2E2\">,</span> <span style=\"background-color: #FFE0E0\">i</span> <span style=\"background-color: #FFE6E6\">e</span> <span style=\"background-color: #FFE3E3\">,</span> <span style=\"background-color: #FFDEDE\">the</span> <span style=\"background-color: #FFDEDE\">number</span> <span style=\"background-color: #FFECEC\">of</span> <span style=\"background-color: #FFE2E2\">distinct</span> <span style=\"background-color: #FFF0F0\">nonterminal</span> <span style=\"background-color: #FFE2E2\">symbols</span> <span style=\"background-color: #FFF0F0\">in</span> <span style=\"background-color: #FFF3F3\">a</span> <span style=\"background-color: #FFE2E2\">grammar</span> <span style=\"background-color: #FFF6F6\">based</span> <span style=\"background-color: #FFE0E0\">compression</span> <span style=\"background-color: #FFECEC\">for</span> <span style=\"background-color: #FFFAFA\">a</span> <span style=\"background-color: #FFE8E8\">string</span> <span style=\"background-color: #FFF3F3\">,</span> <span style=\"background-color: #FFEEEE\">and</span> <span style=\"background-color: #FFEAEA\">the</span> <span style=\"background-color: #FFEAEA\">excess</span> <span style=\"background-color: #FFEEEE\">length</span> <span style=\"background-color: #FFE6E6\">of</span> <span style=\"background-color: #FFE8E8\">the</span> <span style=\"background-color: #FFF3F3\">respective</span> <span style=\"background-color: #FFDADA\">universal</span> <span style=\"background-color: #FFDCDC\">code</span> <span style=\"background-color: #FFDADA\">,</span> <span style=\"background-color: #FFE2E2\">i</span> <span style=\"background-color: #FFE2E2\">e</span> <span style=\"background-color: #FFDCDC\">,</span> <span style=\"background-color: #FFD8D8\">the</span> <span style=\"background-color: #FFE6E6\">code</span> <span style=\"background-color: #FFE3E3\">based</span> <span style=\"background-color: #FF1E1E\">analog</span> <span style=\"background-color: #FFD3D3\">of</span> <span style=\"background-color: #FF2020\">algorithmic</span> <span style=\"background-color: #FF2020\">mutual</span> <span style=\"background-color: #FF1E1E\">information</span> <span style=\"background-color: #FFF3F3\">the</span> <span style=\"background-color: #FFF2F2\">aim</span> <span style=\"background-color: #FFE6E6\">is</span> <span style=\"background-color: #FFECEC\">to</span> <span style=\"background-color: #FFF3F3\">strengthen</span> <span style=\"background-color: #FFDCDC\">inequalities</span> <span style=\"background-color: #FFEAEA\">which</span> <span style=\"background-color: #FFEAEA\">were</span> <span style=\"background-color: #FFDCDC\">discussed</span> <span style=\"background-color: #FFE0E0\">in</span> <span style=\"background-color: #FFE3E3\">a</span> <span style=\"background-color: #FFD8D8\">weaker</span> <span style=\"background-color: #FFF3F3\">form</span> <span style=\"background-color: #FFFAFA\">in</span> <span style=\"background-color: #FFB6B6\">linguistics</span> <span style=\"background-color: #FFDADA\">but</span> <span style=\"background-color: #FFF6F6\">shed</span> <span style=\"background-color: #FFEEEE\">some</span> <span style=\"background-color: #FFEEEE\">light</span> <span style=\"background-color: #FFE6E6\">on</span> <span style=\"background-color: #FFF8F8\">redundancy</span> <span style=\"background-color: #FFF6F6\">of</span> <span style=\"background-color: #FF1E1E\">efficiently</span> <span style=\"background-color: #FFF2F2\">computable</span> <span style=\"background-color: #FF1E1E\">codes</span> <span style=\"background-color: #FFF2F2\">the</span> <span style=\"background-color: #FFF8F8\">main</span> <span style=\"background-color: #FFFAFA\">contribution</span> <span style=\"background-color: #FFFCFC\">of</span> <span style=\"background-color: #FFFAFA\">the</span> <span style=\"background-color: #FFFCFC\">paper</span> <span style=\"background-color: #FFF6F6\">is</span> <span style=\"background-color: #FFF8F8\">a</span> <span style=\"background-color: #FFF6F6\">construction</span> <span style=\"background-color: #FFFAFA\">of</span> <span style=\"background-color: #FFF2F2\">universal</span> <span style=\"background-color: #FFE2E2\">grammar</span> <span style=\"background-color: #FFE0E0\">based</span> <span style=\"background-color: #FFEEEE\">codes</span> <span style=\"background-color: #FFF3F3\">for</span> <span style=\"background-color: #FFF6F6\">which</span> <span style=\"background-color: #FFFEFE\">the</span> <span style=\"background-color: #FFFEFE\">excess</span> <span style=\"background-color: #FFF0F0\">lengths</span> <span style=\"background-color: #FFF8F8\">can</span> <span style=\"background-color: #FFF8F8\">be</span> <span style=\"background-color: #FFFCFC\">bounded</span> <span style=\"background-color: #FFF3F3\">easily</span></p>"
      ]
     },
     "metadata": {},
     "output_type": "display_data"
    }
   ],
   "source": [
    "draw_heatmap(model.model, model.tokenizer, X_test[76])"
   ]
  },
  {
   "cell_type": "code",
   "execution_count": null,
   "metadata": {},
   "outputs": [],
   "source": []
  }
 ],
 "metadata": {
  "kernelspec": {
   "display_name": "Python 3",
   "language": "python",
   "name": "python3"
  },
  "language_info": {
   "codemirror_mode": {
    "name": "ipython",
    "version": 3
   },
   "file_extension": ".py",
   "mimetype": "text/x-python",
   "name": "python",
   "nbconvert_exporter": "python",
   "pygments_lexer": "ipython3",
   "version": "3.9.4"
  }
 },
 "nbformat": 4,
 "nbformat_minor": 4
}
